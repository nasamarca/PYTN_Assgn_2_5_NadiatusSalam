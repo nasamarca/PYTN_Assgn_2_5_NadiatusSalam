{
 "cells": [
  {
   "cell_type": "markdown",
   "metadata": {},
   "source": [
    "# Nadiatus Salam\n",
    "# PYTN-KS19-014\n",
    "# Python for Data Science by Hacktiv8\n",
    "# Assignment Python 2 - Statistical Treatment for NYC Property Sales"
   ]
  },
  {
   "cell_type": "markdown",
   "metadata": {},
   "source": [
    "## Business and Data Understanding\n",
    "\n",
    "**Context**\n",
    "\n",
    "This dataset is a record of every building or building unit (apartment, etc.) sold in the New York City property market over a 12-month period.\n",
    "\n",
    "**Content**\n",
    "\n",
    "This dataset contains the location, address, type, sale price, and sale date of building units sold. A reference on the trickier fields:\n",
    "\n",
    "* `BOROUGH`: A digit code for the borough the property is located in; in order these are Manhattan (1), Bronx (2), Brooklyn (3), Queens (4), and Staten Island (5).\n",
    "* `BLOCK`; LOT: The combination of borough, block, and lot forms a unique key for property in New York City. Commonly called a BBL.\n",
    "* `BUILDING CLASS AT PRESENT and BUILDING CLASS AT TIME OF SALE`: The type of building at various points in time. See the glossary linked to below.\n",
    "For further reference on individual fields see the Glossary of Terms. For the building classification codes see the Building Classifications Glossary.\n",
    "\n",
    "Note that because this is a financial transaction dataset, there are some points that need to be kept in mind:\n",
    "\n",
    "* Many sales occur with a nonsensically small dollar amount: $0 most commonly. These sales are actually transfers of deeds between parties: for example, parents transferring ownership to their home to a child after moving out for retirement.\n",
    "* This dataset uses the financial definition of a building/building unit, for tax purposes. In case a single entity owns the building in question, a sale covers the value of the entire building. In case a building is owned piecemeal by its residents (a condominium), a sale refers to a single apartment (or group of apartments) owned by some individual.\n",
    "\n",
    "Formulate a question and derive a statistical hypothesis test to answer the question. You\n",
    "have to demonstrate that you’re able to make decisions using data in a scientific\n",
    "manner. Examples of questions can be:\n",
    "* Is there a difference in unit sold between property built in 1900-2000 and 2001 so on?\n",
    "* Is there a difference in unit sold based on building category?\n",
    "* What can you discover about New York City real estate by looking at a year's worth\n",
    "of raw transaction records? Can you spot trends in the market?\n",
    "\n",
    "**Dataset Link** : https://www.kaggle.com/datasets/new-york-city/nyc-property-sales/"
   ]
  },
  {
   "cell_type": "markdown",
   "metadata": {},
   "source": [
    "## Analytic Approach\n",
    "Melakukan Data Visualization kepada dataset seperti `Line, Area, Scatter Plot, Box Plot,\n",
    "Word Clouds, Folium Maps dan metode Visualization Plot`. "
   ]
  },
  {
   "cell_type": "markdown",
   "metadata": {},
   "source": [
    "## Import Library yang Dibutuhkan "
   ]
  },
  {
   "cell_type": "code",
   "execution_count": 147,
   "metadata": {},
   "outputs": [],
   "source": [
    "# Import library yang dibutuhkan\n",
    "# Data cleaning and manipulation \n",
    "import pandas as pd\n",
    "import numpy as np\n",
    "import math\n",
    "import statistics\n",
    "import scipy.stats\n",
    "from scipy import stats\n",
    "\n",
    "# data visualization\n",
    "%matplotlib inline\n",
    "import matplotlib as mpl\n",
    "import matplotlib.pyplot as plt\n",
    "import seaborn as sns\n",
    "\n",
    "import warnings\n"
   ]
  },
  {
   "cell_type": "markdown",
   "metadata": {},
   "source": [
    "## Reading Dataset "
   ]
  },
  {
   "cell_type": "code",
   "execution_count": 148,
   "metadata": {},
   "outputs": [
    {
     "data": {
      "text/html": [
       "<div>\n",
       "<style scoped>\n",
       "    .dataframe tbody tr th:only-of-type {\n",
       "        vertical-align: middle;\n",
       "    }\n",
       "\n",
       "    .dataframe tbody tr th {\n",
       "        vertical-align: top;\n",
       "    }\n",
       "\n",
       "    .dataframe thead th {\n",
       "        text-align: right;\n",
       "    }\n",
       "</style>\n",
       "<table border=\"1\" class=\"dataframe\">\n",
       "  <thead>\n",
       "    <tr style=\"text-align: right;\">\n",
       "      <th></th>\n",
       "      <th>Unnamed: 0</th>\n",
       "      <th>BOROUGH</th>\n",
       "      <th>NEIGHBORHOOD</th>\n",
       "      <th>BUILDING CLASS CATEGORY</th>\n",
       "      <th>TAX CLASS AT PRESENT</th>\n",
       "      <th>BLOCK</th>\n",
       "      <th>LOT</th>\n",
       "      <th>EASE-MENT</th>\n",
       "      <th>BUILDING CLASS AT PRESENT</th>\n",
       "      <th>ADDRESS</th>\n",
       "      <th>...</th>\n",
       "      <th>RESIDENTIAL UNITS</th>\n",
       "      <th>COMMERCIAL UNITS</th>\n",
       "      <th>TOTAL UNITS</th>\n",
       "      <th>LAND SQUARE FEET</th>\n",
       "      <th>GROSS SQUARE FEET</th>\n",
       "      <th>YEAR BUILT</th>\n",
       "      <th>TAX CLASS AT TIME OF SALE</th>\n",
       "      <th>BUILDING CLASS AT TIME OF SALE</th>\n",
       "      <th>SALE PRICE</th>\n",
       "      <th>SALE DATE</th>\n",
       "    </tr>\n",
       "  </thead>\n",
       "  <tbody>\n",
       "    <tr>\n",
       "      <th>0</th>\n",
       "      <td>4</td>\n",
       "      <td>1</td>\n",
       "      <td>ALPHABET CITY</td>\n",
       "      <td>07 RENTALS - WALKUP APARTMENTS</td>\n",
       "      <td>2A</td>\n",
       "      <td>392</td>\n",
       "      <td>6</td>\n",
       "      <td></td>\n",
       "      <td>C2</td>\n",
       "      <td>153 AVENUE B</td>\n",
       "      <td>...</td>\n",
       "      <td>5</td>\n",
       "      <td>0</td>\n",
       "      <td>5</td>\n",
       "      <td>1633</td>\n",
       "      <td>6440</td>\n",
       "      <td>1900</td>\n",
       "      <td>2</td>\n",
       "      <td>C2</td>\n",
       "      <td>6625000</td>\n",
       "      <td>2017-07-19 00:00:00</td>\n",
       "    </tr>\n",
       "    <tr>\n",
       "      <th>1</th>\n",
       "      <td>5</td>\n",
       "      <td>1</td>\n",
       "      <td>ALPHABET CITY</td>\n",
       "      <td>07 RENTALS - WALKUP APARTMENTS</td>\n",
       "      <td>2</td>\n",
       "      <td>399</td>\n",
       "      <td>26</td>\n",
       "      <td></td>\n",
       "      <td>C7</td>\n",
       "      <td>234 EAST 4TH   STREET</td>\n",
       "      <td>...</td>\n",
       "      <td>28</td>\n",
       "      <td>3</td>\n",
       "      <td>31</td>\n",
       "      <td>4616</td>\n",
       "      <td>18690</td>\n",
       "      <td>1900</td>\n",
       "      <td>2</td>\n",
       "      <td>C7</td>\n",
       "      <td>-</td>\n",
       "      <td>2016-12-14 00:00:00</td>\n",
       "    </tr>\n",
       "    <tr>\n",
       "      <th>2</th>\n",
       "      <td>6</td>\n",
       "      <td>1</td>\n",
       "      <td>ALPHABET CITY</td>\n",
       "      <td>07 RENTALS - WALKUP APARTMENTS</td>\n",
       "      <td>2</td>\n",
       "      <td>399</td>\n",
       "      <td>39</td>\n",
       "      <td></td>\n",
       "      <td>C7</td>\n",
       "      <td>197 EAST 3RD   STREET</td>\n",
       "      <td>...</td>\n",
       "      <td>16</td>\n",
       "      <td>1</td>\n",
       "      <td>17</td>\n",
       "      <td>2212</td>\n",
       "      <td>7803</td>\n",
       "      <td>1900</td>\n",
       "      <td>2</td>\n",
       "      <td>C7</td>\n",
       "      <td>-</td>\n",
       "      <td>2016-12-09 00:00:00</td>\n",
       "    </tr>\n",
       "    <tr>\n",
       "      <th>3</th>\n",
       "      <td>7</td>\n",
       "      <td>1</td>\n",
       "      <td>ALPHABET CITY</td>\n",
       "      <td>07 RENTALS - WALKUP APARTMENTS</td>\n",
       "      <td>2B</td>\n",
       "      <td>402</td>\n",
       "      <td>21</td>\n",
       "      <td></td>\n",
       "      <td>C4</td>\n",
       "      <td>154 EAST 7TH STREET</td>\n",
       "      <td>...</td>\n",
       "      <td>10</td>\n",
       "      <td>0</td>\n",
       "      <td>10</td>\n",
       "      <td>2272</td>\n",
       "      <td>6794</td>\n",
       "      <td>1913</td>\n",
       "      <td>2</td>\n",
       "      <td>C4</td>\n",
       "      <td>3936272</td>\n",
       "      <td>2016-09-23 00:00:00</td>\n",
       "    </tr>\n",
       "    <tr>\n",
       "      <th>4</th>\n",
       "      <td>8</td>\n",
       "      <td>1</td>\n",
       "      <td>ALPHABET CITY</td>\n",
       "      <td>07 RENTALS - WALKUP APARTMENTS</td>\n",
       "      <td>2A</td>\n",
       "      <td>404</td>\n",
       "      <td>55</td>\n",
       "      <td></td>\n",
       "      <td>C2</td>\n",
       "      <td>301 EAST 10TH   STREET</td>\n",
       "      <td>...</td>\n",
       "      <td>6</td>\n",
       "      <td>0</td>\n",
       "      <td>6</td>\n",
       "      <td>2369</td>\n",
       "      <td>4615</td>\n",
       "      <td>1900</td>\n",
       "      <td>2</td>\n",
       "      <td>C2</td>\n",
       "      <td>8000000</td>\n",
       "      <td>2016-11-17 00:00:00</td>\n",
       "    </tr>\n",
       "  </tbody>\n",
       "</table>\n",
       "<p>5 rows × 22 columns</p>\n",
       "</div>"
      ],
      "text/plain": [
       "   Unnamed: 0  BOROUGH   NEIGHBORHOOD  \\\n",
       "0           4        1  ALPHABET CITY   \n",
       "1           5        1  ALPHABET CITY   \n",
       "2           6        1  ALPHABET CITY   \n",
       "3           7        1  ALPHABET CITY   \n",
       "4           8        1  ALPHABET CITY   \n",
       "\n",
       "                       BUILDING CLASS CATEGORY TAX CLASS AT PRESENT  BLOCK  \\\n",
       "0  07 RENTALS - WALKUP APARTMENTS                                2A    392   \n",
       "1  07 RENTALS - WALKUP APARTMENTS                                 2    399   \n",
       "2  07 RENTALS - WALKUP APARTMENTS                                 2    399   \n",
       "3  07 RENTALS - WALKUP APARTMENTS                                2B    402   \n",
       "4  07 RENTALS - WALKUP APARTMENTS                                2A    404   \n",
       "\n",
       "   LOT EASE-MENT BUILDING CLASS AT PRESENT                 ADDRESS  ...  \\\n",
       "0    6                                  C2            153 AVENUE B  ...   \n",
       "1   26                                  C7   234 EAST 4TH   STREET  ...   \n",
       "2   39                                  C7   197 EAST 3RD   STREET  ...   \n",
       "3   21                                  C4     154 EAST 7TH STREET  ...   \n",
       "4   55                                  C2  301 EAST 10TH   STREET  ...   \n",
       "\n",
       "  RESIDENTIAL UNITS  COMMERCIAL UNITS  TOTAL UNITS  LAND SQUARE FEET  \\\n",
       "0                 5                 0            5              1633   \n",
       "1                28                 3           31              4616   \n",
       "2                16                 1           17              2212   \n",
       "3                10                 0           10              2272   \n",
       "4                 6                 0            6              2369   \n",
       "\n",
       "   GROSS SQUARE FEET YEAR BUILT TAX CLASS AT TIME OF SALE  \\\n",
       "0               6440       1900                         2   \n",
       "1              18690       1900                         2   \n",
       "2               7803       1900                         2   \n",
       "3               6794       1913                         2   \n",
       "4               4615       1900                         2   \n",
       "\n",
       "   BUILDING CLASS AT TIME OF SALE  SALE PRICE            SALE DATE  \n",
       "0                              C2     6625000  2017-07-19 00:00:00  \n",
       "1                              C7         -    2016-12-14 00:00:00  \n",
       "2                              C7         -    2016-12-09 00:00:00  \n",
       "3                              C4     3936272  2016-09-23 00:00:00  \n",
       "4                              C2     8000000  2016-11-17 00:00:00  \n",
       "\n",
       "[5 rows x 22 columns]"
      ]
     },
     "execution_count": 148,
     "metadata": {},
     "output_type": "execute_result"
    }
   ],
   "source": [
    "# Membaca dataset dengan library pandas\n",
    "df_nyc = pd.read_csv(\"nyc-rolling-sales.csv\")\n",
    "\n",
    "# Menampilkan 5 data teratas\n",
    "df_nyc.head()"
   ]
  },
  {
   "cell_type": "code",
   "execution_count": 149,
   "metadata": {},
   "outputs": [
    {
     "data": {
      "text/plain": [
       "(84548, 22)"
      ]
     },
     "execution_count": 149,
     "metadata": {},
     "output_type": "execute_result"
    }
   ],
   "source": [
    "# Melihat jumlah baris dan kolom pada dataset\n",
    "df_nyc.shape"
   ]
  },
  {
   "cell_type": "code",
   "execution_count": 150,
   "metadata": {},
   "outputs": [
    {
     "name": "stdout",
     "output_type": "stream",
     "text": [
      "Baris :  84548\n",
      "Kolom :  22\n"
     ]
    }
   ],
   "source": [
    "# Cara lain untuk melihat baris dan kolom\n",
    "print(\"Baris : \", df_nyc.shape[0])\n",
    "print(\"Kolom : \", df_nyc.shape[1])"
   ]
  },
  {
   "cell_type": "markdown",
   "metadata": {},
   "source": [
    "## Data Cleansing and Preparation"
   ]
  },
  {
   "cell_type": "code",
   "execution_count": 151,
   "metadata": {},
   "outputs": [
    {
     "data": {
      "text/html": [
       "<div>\n",
       "<style scoped>\n",
       "    .dataframe tbody tr th:only-of-type {\n",
       "        vertical-align: middle;\n",
       "    }\n",
       "\n",
       "    .dataframe tbody tr th {\n",
       "        vertical-align: top;\n",
       "    }\n",
       "\n",
       "    .dataframe thead th {\n",
       "        text-align: right;\n",
       "    }\n",
       "</style>\n",
       "<table border=\"1\" class=\"dataframe\">\n",
       "  <thead>\n",
       "    <tr style=\"text-align: right;\">\n",
       "      <th></th>\n",
       "      <th>Unnamed: 0</th>\n",
       "      <th>BOROUGH</th>\n",
       "      <th>NEIGHBORHOOD</th>\n",
       "      <th>BUILDING CLASS CATEGORY</th>\n",
       "      <th>TAX CLASS AT PRESENT</th>\n",
       "      <th>BLOCK</th>\n",
       "      <th>LOT</th>\n",
       "      <th>EASE-MENT</th>\n",
       "      <th>BUILDING CLASS AT PRESENT</th>\n",
       "      <th>ADDRESS</th>\n",
       "      <th>...</th>\n",
       "      <th>RESIDENTIAL UNITS</th>\n",
       "      <th>COMMERCIAL UNITS</th>\n",
       "      <th>TOTAL UNITS</th>\n",
       "      <th>LAND SQUARE FEET</th>\n",
       "      <th>GROSS SQUARE FEET</th>\n",
       "      <th>YEAR BUILT</th>\n",
       "      <th>TAX CLASS AT TIME OF SALE</th>\n",
       "      <th>BUILDING CLASS AT TIME OF SALE</th>\n",
       "      <th>SALE PRICE</th>\n",
       "      <th>SALE DATE</th>\n",
       "    </tr>\n",
       "  </thead>\n",
       "  <tbody>\n",
       "    <tr>\n",
       "      <th>0</th>\n",
       "      <td>4</td>\n",
       "      <td>1</td>\n",
       "      <td>ALPHABET CITY</td>\n",
       "      <td>07 RENTALS - WALKUP APARTMENTS</td>\n",
       "      <td>2A</td>\n",
       "      <td>392</td>\n",
       "      <td>6</td>\n",
       "      <td></td>\n",
       "      <td>C2</td>\n",
       "      <td>153 AVENUE B</td>\n",
       "      <td>...</td>\n",
       "      <td>5</td>\n",
       "      <td>0</td>\n",
       "      <td>5</td>\n",
       "      <td>1633</td>\n",
       "      <td>6440</td>\n",
       "      <td>1900</td>\n",
       "      <td>2</td>\n",
       "      <td>C2</td>\n",
       "      <td>6625000</td>\n",
       "      <td>2017-07-19 00:00:00</td>\n",
       "    </tr>\n",
       "    <tr>\n",
       "      <th>1</th>\n",
       "      <td>5</td>\n",
       "      <td>1</td>\n",
       "      <td>ALPHABET CITY</td>\n",
       "      <td>07 RENTALS - WALKUP APARTMENTS</td>\n",
       "      <td>2</td>\n",
       "      <td>399</td>\n",
       "      <td>26</td>\n",
       "      <td></td>\n",
       "      <td>C7</td>\n",
       "      <td>234 EAST 4TH   STREET</td>\n",
       "      <td>...</td>\n",
       "      <td>28</td>\n",
       "      <td>3</td>\n",
       "      <td>31</td>\n",
       "      <td>4616</td>\n",
       "      <td>18690</td>\n",
       "      <td>1900</td>\n",
       "      <td>2</td>\n",
       "      <td>C7</td>\n",
       "      <td>-</td>\n",
       "      <td>2016-12-14 00:00:00</td>\n",
       "    </tr>\n",
       "    <tr>\n",
       "      <th>2</th>\n",
       "      <td>6</td>\n",
       "      <td>1</td>\n",
       "      <td>ALPHABET CITY</td>\n",
       "      <td>07 RENTALS - WALKUP APARTMENTS</td>\n",
       "      <td>2</td>\n",
       "      <td>399</td>\n",
       "      <td>39</td>\n",
       "      <td></td>\n",
       "      <td>C7</td>\n",
       "      <td>197 EAST 3RD   STREET</td>\n",
       "      <td>...</td>\n",
       "      <td>16</td>\n",
       "      <td>1</td>\n",
       "      <td>17</td>\n",
       "      <td>2212</td>\n",
       "      <td>7803</td>\n",
       "      <td>1900</td>\n",
       "      <td>2</td>\n",
       "      <td>C7</td>\n",
       "      <td>-</td>\n",
       "      <td>2016-12-09 00:00:00</td>\n",
       "    </tr>\n",
       "    <tr>\n",
       "      <th>3</th>\n",
       "      <td>7</td>\n",
       "      <td>1</td>\n",
       "      <td>ALPHABET CITY</td>\n",
       "      <td>07 RENTALS - WALKUP APARTMENTS</td>\n",
       "      <td>2B</td>\n",
       "      <td>402</td>\n",
       "      <td>21</td>\n",
       "      <td></td>\n",
       "      <td>C4</td>\n",
       "      <td>154 EAST 7TH STREET</td>\n",
       "      <td>...</td>\n",
       "      <td>10</td>\n",
       "      <td>0</td>\n",
       "      <td>10</td>\n",
       "      <td>2272</td>\n",
       "      <td>6794</td>\n",
       "      <td>1913</td>\n",
       "      <td>2</td>\n",
       "      <td>C4</td>\n",
       "      <td>3936272</td>\n",
       "      <td>2016-09-23 00:00:00</td>\n",
       "    </tr>\n",
       "    <tr>\n",
       "      <th>4</th>\n",
       "      <td>8</td>\n",
       "      <td>1</td>\n",
       "      <td>ALPHABET CITY</td>\n",
       "      <td>07 RENTALS - WALKUP APARTMENTS</td>\n",
       "      <td>2A</td>\n",
       "      <td>404</td>\n",
       "      <td>55</td>\n",
       "      <td></td>\n",
       "      <td>C2</td>\n",
       "      <td>301 EAST 10TH   STREET</td>\n",
       "      <td>...</td>\n",
       "      <td>6</td>\n",
       "      <td>0</td>\n",
       "      <td>6</td>\n",
       "      <td>2369</td>\n",
       "      <td>4615</td>\n",
       "      <td>1900</td>\n",
       "      <td>2</td>\n",
       "      <td>C2</td>\n",
       "      <td>8000000</td>\n",
       "      <td>2016-11-17 00:00:00</td>\n",
       "    </tr>\n",
       "  </tbody>\n",
       "</table>\n",
       "<p>5 rows × 22 columns</p>\n",
       "</div>"
      ],
      "text/plain": [
       "   Unnamed: 0  BOROUGH   NEIGHBORHOOD  \\\n",
       "0           4        1  ALPHABET CITY   \n",
       "1           5        1  ALPHABET CITY   \n",
       "2           6        1  ALPHABET CITY   \n",
       "3           7        1  ALPHABET CITY   \n",
       "4           8        1  ALPHABET CITY   \n",
       "\n",
       "                       BUILDING CLASS CATEGORY TAX CLASS AT PRESENT  BLOCK  \\\n",
       "0  07 RENTALS - WALKUP APARTMENTS                                2A    392   \n",
       "1  07 RENTALS - WALKUP APARTMENTS                                 2    399   \n",
       "2  07 RENTALS - WALKUP APARTMENTS                                 2    399   \n",
       "3  07 RENTALS - WALKUP APARTMENTS                                2B    402   \n",
       "4  07 RENTALS - WALKUP APARTMENTS                                2A    404   \n",
       "\n",
       "   LOT EASE-MENT BUILDING CLASS AT PRESENT                 ADDRESS  ...  \\\n",
       "0    6                                  C2            153 AVENUE B  ...   \n",
       "1   26                                  C7   234 EAST 4TH   STREET  ...   \n",
       "2   39                                  C7   197 EAST 3RD   STREET  ...   \n",
       "3   21                                  C4     154 EAST 7TH STREET  ...   \n",
       "4   55                                  C2  301 EAST 10TH   STREET  ...   \n",
       "\n",
       "  RESIDENTIAL UNITS  COMMERCIAL UNITS  TOTAL UNITS  LAND SQUARE FEET  \\\n",
       "0                 5                 0            5              1633   \n",
       "1                28                 3           31              4616   \n",
       "2                16                 1           17              2212   \n",
       "3                10                 0           10              2272   \n",
       "4                 6                 0            6              2369   \n",
       "\n",
       "   GROSS SQUARE FEET YEAR BUILT TAX CLASS AT TIME OF SALE  \\\n",
       "0               6440       1900                         2   \n",
       "1              18690       1900                         2   \n",
       "2               7803       1900                         2   \n",
       "3               6794       1913                         2   \n",
       "4               4615       1900                         2   \n",
       "\n",
       "   BUILDING CLASS AT TIME OF SALE  SALE PRICE            SALE DATE  \n",
       "0                              C2     6625000  2017-07-19 00:00:00  \n",
       "1                              C7         -    2016-12-14 00:00:00  \n",
       "2                              C7         -    2016-12-09 00:00:00  \n",
       "3                              C4     3936272  2016-09-23 00:00:00  \n",
       "4                              C2     8000000  2016-11-17 00:00:00  \n",
       "\n",
       "[5 rows x 22 columns]"
      ]
     },
     "execution_count": 151,
     "metadata": {},
     "output_type": "execute_result"
    }
   ],
   "source": [
    "# Menampilkan 5 data teratas\n",
    "df_nyc.head()"
   ]
  },
  {
   "cell_type": "markdown",
   "metadata": {},
   "source": [
    "Dapat dilihat dari data di atas terdapat kolom `Unnamed` yang berisikan angka yang dimulai dari nomor 4 dan tidak memiliki arti apapun sehingga **data `Unnamed` tidak diperlukan**."
   ]
  },
  {
   "cell_type": "code",
   "execution_count": 152,
   "metadata": {},
   "outputs": [
    {
     "data": {
      "text/html": [
       "<div>\n",
       "<style scoped>\n",
       "    .dataframe tbody tr th:only-of-type {\n",
       "        vertical-align: middle;\n",
       "    }\n",
       "\n",
       "    .dataframe tbody tr th {\n",
       "        vertical-align: top;\n",
       "    }\n",
       "\n",
       "    .dataframe thead th {\n",
       "        text-align: right;\n",
       "    }\n",
       "</style>\n",
       "<table border=\"1\" class=\"dataframe\">\n",
       "  <thead>\n",
       "    <tr style=\"text-align: right;\">\n",
       "      <th></th>\n",
       "      <th>BOROUGH</th>\n",
       "      <th>NEIGHBORHOOD</th>\n",
       "      <th>BUILDING CLASS CATEGORY</th>\n",
       "      <th>TAX CLASS AT PRESENT</th>\n",
       "      <th>BLOCK</th>\n",
       "      <th>LOT</th>\n",
       "      <th>EASE-MENT</th>\n",
       "      <th>BUILDING CLASS AT PRESENT</th>\n",
       "      <th>ADDRESS</th>\n",
       "      <th>APARTMENT NUMBER</th>\n",
       "      <th>...</th>\n",
       "      <th>RESIDENTIAL UNITS</th>\n",
       "      <th>COMMERCIAL UNITS</th>\n",
       "      <th>TOTAL UNITS</th>\n",
       "      <th>LAND SQUARE FEET</th>\n",
       "      <th>GROSS SQUARE FEET</th>\n",
       "      <th>YEAR BUILT</th>\n",
       "      <th>TAX CLASS AT TIME OF SALE</th>\n",
       "      <th>BUILDING CLASS AT TIME OF SALE</th>\n",
       "      <th>SALE PRICE</th>\n",
       "      <th>SALE DATE</th>\n",
       "    </tr>\n",
       "  </thead>\n",
       "  <tbody>\n",
       "    <tr>\n",
       "      <th>0</th>\n",
       "      <td>1</td>\n",
       "      <td>ALPHABET CITY</td>\n",
       "      <td>07 RENTALS - WALKUP APARTMENTS</td>\n",
       "      <td>2A</td>\n",
       "      <td>392</td>\n",
       "      <td>6</td>\n",
       "      <td></td>\n",
       "      <td>C2</td>\n",
       "      <td>153 AVENUE B</td>\n",
       "      <td></td>\n",
       "      <td>...</td>\n",
       "      <td>5</td>\n",
       "      <td>0</td>\n",
       "      <td>5</td>\n",
       "      <td>1633</td>\n",
       "      <td>6440</td>\n",
       "      <td>1900</td>\n",
       "      <td>2</td>\n",
       "      <td>C2</td>\n",
       "      <td>6625000</td>\n",
       "      <td>2017-07-19 00:00:00</td>\n",
       "    </tr>\n",
       "    <tr>\n",
       "      <th>1</th>\n",
       "      <td>1</td>\n",
       "      <td>ALPHABET CITY</td>\n",
       "      <td>07 RENTALS - WALKUP APARTMENTS</td>\n",
       "      <td>2</td>\n",
       "      <td>399</td>\n",
       "      <td>26</td>\n",
       "      <td></td>\n",
       "      <td>C7</td>\n",
       "      <td>234 EAST 4TH   STREET</td>\n",
       "      <td></td>\n",
       "      <td>...</td>\n",
       "      <td>28</td>\n",
       "      <td>3</td>\n",
       "      <td>31</td>\n",
       "      <td>4616</td>\n",
       "      <td>18690</td>\n",
       "      <td>1900</td>\n",
       "      <td>2</td>\n",
       "      <td>C7</td>\n",
       "      <td>-</td>\n",
       "      <td>2016-12-14 00:00:00</td>\n",
       "    </tr>\n",
       "    <tr>\n",
       "      <th>2</th>\n",
       "      <td>1</td>\n",
       "      <td>ALPHABET CITY</td>\n",
       "      <td>07 RENTALS - WALKUP APARTMENTS</td>\n",
       "      <td>2</td>\n",
       "      <td>399</td>\n",
       "      <td>39</td>\n",
       "      <td></td>\n",
       "      <td>C7</td>\n",
       "      <td>197 EAST 3RD   STREET</td>\n",
       "      <td></td>\n",
       "      <td>...</td>\n",
       "      <td>16</td>\n",
       "      <td>1</td>\n",
       "      <td>17</td>\n",
       "      <td>2212</td>\n",
       "      <td>7803</td>\n",
       "      <td>1900</td>\n",
       "      <td>2</td>\n",
       "      <td>C7</td>\n",
       "      <td>-</td>\n",
       "      <td>2016-12-09 00:00:00</td>\n",
       "    </tr>\n",
       "    <tr>\n",
       "      <th>3</th>\n",
       "      <td>1</td>\n",
       "      <td>ALPHABET CITY</td>\n",
       "      <td>07 RENTALS - WALKUP APARTMENTS</td>\n",
       "      <td>2B</td>\n",
       "      <td>402</td>\n",
       "      <td>21</td>\n",
       "      <td></td>\n",
       "      <td>C4</td>\n",
       "      <td>154 EAST 7TH STREET</td>\n",
       "      <td></td>\n",
       "      <td>...</td>\n",
       "      <td>10</td>\n",
       "      <td>0</td>\n",
       "      <td>10</td>\n",
       "      <td>2272</td>\n",
       "      <td>6794</td>\n",
       "      <td>1913</td>\n",
       "      <td>2</td>\n",
       "      <td>C4</td>\n",
       "      <td>3936272</td>\n",
       "      <td>2016-09-23 00:00:00</td>\n",
       "    </tr>\n",
       "    <tr>\n",
       "      <th>4</th>\n",
       "      <td>1</td>\n",
       "      <td>ALPHABET CITY</td>\n",
       "      <td>07 RENTALS - WALKUP APARTMENTS</td>\n",
       "      <td>2A</td>\n",
       "      <td>404</td>\n",
       "      <td>55</td>\n",
       "      <td></td>\n",
       "      <td>C2</td>\n",
       "      <td>301 EAST 10TH   STREET</td>\n",
       "      <td></td>\n",
       "      <td>...</td>\n",
       "      <td>6</td>\n",
       "      <td>0</td>\n",
       "      <td>6</td>\n",
       "      <td>2369</td>\n",
       "      <td>4615</td>\n",
       "      <td>1900</td>\n",
       "      <td>2</td>\n",
       "      <td>C2</td>\n",
       "      <td>8000000</td>\n",
       "      <td>2016-11-17 00:00:00</td>\n",
       "    </tr>\n",
       "  </tbody>\n",
       "</table>\n",
       "<p>5 rows × 21 columns</p>\n",
       "</div>"
      ],
      "text/plain": [
       "   BOROUGH   NEIGHBORHOOD                      BUILDING CLASS CATEGORY  \\\n",
       "0        1  ALPHABET CITY  07 RENTALS - WALKUP APARTMENTS                \n",
       "1        1  ALPHABET CITY  07 RENTALS - WALKUP APARTMENTS                \n",
       "2        1  ALPHABET CITY  07 RENTALS - WALKUP APARTMENTS                \n",
       "3        1  ALPHABET CITY  07 RENTALS - WALKUP APARTMENTS                \n",
       "4        1  ALPHABET CITY  07 RENTALS - WALKUP APARTMENTS                \n",
       "\n",
       "  TAX CLASS AT PRESENT  BLOCK  LOT EASE-MENT BUILDING CLASS AT PRESENT  \\\n",
       "0                   2A    392    6                                  C2   \n",
       "1                    2    399   26                                  C7   \n",
       "2                    2    399   39                                  C7   \n",
       "3                   2B    402   21                                  C4   \n",
       "4                   2A    404   55                                  C2   \n",
       "\n",
       "                  ADDRESS APARTMENT NUMBER  ...  RESIDENTIAL UNITS  \\\n",
       "0            153 AVENUE B                   ...                  5   \n",
       "1   234 EAST 4TH   STREET                   ...                 28   \n",
       "2   197 EAST 3RD   STREET                   ...                 16   \n",
       "3     154 EAST 7TH STREET                   ...                 10   \n",
       "4  301 EAST 10TH   STREET                   ...                  6   \n",
       "\n",
       "   COMMERCIAL UNITS  TOTAL UNITS  LAND SQUARE FEET GROSS SQUARE FEET  \\\n",
       "0                 0            5              1633              6440   \n",
       "1                 3           31              4616             18690   \n",
       "2                 1           17              2212              7803   \n",
       "3                 0           10              2272              6794   \n",
       "4                 0            6              2369              4615   \n",
       "\n",
       "  YEAR BUILT  TAX CLASS AT TIME OF SALE  BUILDING CLASS AT TIME OF SALE  \\\n",
       "0       1900                          2                              C2   \n",
       "1       1900                          2                              C7   \n",
       "2       1900                          2                              C7   \n",
       "3       1913                          2                              C4   \n",
       "4       1900                          2                              C2   \n",
       "\n",
       "  SALE PRICE            SALE DATE  \n",
       "0    6625000  2017-07-19 00:00:00  \n",
       "1        -    2016-12-14 00:00:00  \n",
       "2        -    2016-12-09 00:00:00  \n",
       "3    3936272  2016-09-23 00:00:00  \n",
       "4    8000000  2016-11-17 00:00:00  \n",
       "\n",
       "[5 rows x 21 columns]"
      ]
     },
     "execution_count": 152,
     "metadata": {},
     "output_type": "execute_result"
    }
   ],
   "source": [
    "# Menghapus kolom `Unnamed`\n",
    "df_nyc.drop([\"Unnamed: 0\"], axis=1, inplace=True)\n",
    "# Menampilkan 5 data teratas terbaru\n",
    "df_nyc.head()"
   ]
  },
  {
   "cell_type": "markdown",
   "metadata": {},
   "source": [
    "**Data Understanding :**\n",
    "1. `Borough` : Kode digit untuk wilayah tempat properti berada; ; secara berurutan adalah Manhattan (1), Bronx (2), Brooklyn (3), Queens (4), dan Staten Island (5).\n",
    "2. `Neighborhood` : Nama area yang ditetapkan penilai departemen keuangan.\n",
    "3. `Building Class Category` : Kategori umum bangunan atau properti.\n",
    "4. `Tax Class at Present` : Kelas Pajak.\n",
    "5. `Block` : Sub-divisi dari borough tempat properti.\n",
    "6. `Lot` : Sub-divisi dari Block dan mewakili lokasi unik properti.\n",
    "7. `Easement` : Hak guna bangunan.\n",
    "8. `Buliding Class at Present` : Kelas atau kategori umum dari tipe bangunan properti tersebut.\n",
    "9. `Address` : Alamat yang tercantum pada berkas penjualan. Penjualan koperasi menyantumkan nomor apartment.\n",
    "10. `Zip Code` : Kode pos.\n",
    "11. `Residential Unit` : Jumlah unit hunian.\n",
    "12. `Commercial Unit` : Jumlah unit komersial.\n",
    "13. `Total Unit` :  Jumlah Properti.\n",
    "14. `Land Square Feet` : Luas tanah.\n",
    "15. `Gross Square Feet` : Luas total semua lantai bangunan.\n",
    "16. `Year Built` : Tahun dibangun.\n",
    "17. `Building Class at Time of Sale` : Kelas  atau klasifikasi bangunan pada saat penjualan properti terjadi.\n",
    "18. `Sale Price` : Harga jual.\n",
    "19. `Sale Date` :  Tanggal penjualan."
   ]
  },
  {
   "cell_type": "code",
   "execution_count": 153,
   "metadata": {},
   "outputs": [
    {
     "data": {
      "text/html": [
       "<div>\n",
       "<style scoped>\n",
       "    .dataframe tbody tr th:only-of-type {\n",
       "        vertical-align: middle;\n",
       "    }\n",
       "\n",
       "    .dataframe tbody tr th {\n",
       "        vertical-align: top;\n",
       "    }\n",
       "\n",
       "    .dataframe thead th {\n",
       "        text-align: right;\n",
       "    }\n",
       "</style>\n",
       "<table border=\"1\" class=\"dataframe\">\n",
       "  <thead>\n",
       "    <tr style=\"text-align: right;\">\n",
       "      <th></th>\n",
       "      <th>BOROUGH</th>\n",
       "      <th>NEIGHBORHOOD</th>\n",
       "      <th>BUILDING CLASS CATEGORY</th>\n",
       "      <th>TAX CLASS AT PRESENT</th>\n",
       "      <th>BLOCK</th>\n",
       "      <th>LOT</th>\n",
       "      <th>EASE-MENT</th>\n",
       "      <th>BUILDING CLASS AT PRESENT</th>\n",
       "      <th>ADDRESS</th>\n",
       "      <th>APARTMENT NUMBER</th>\n",
       "      <th>...</th>\n",
       "      <th>RESIDENTIAL UNITS</th>\n",
       "      <th>COMMERCIAL UNITS</th>\n",
       "      <th>TOTAL UNITS</th>\n",
       "      <th>LAND SQUARE FEET</th>\n",
       "      <th>GROSS SQUARE FEET</th>\n",
       "      <th>YEAR BUILT</th>\n",
       "      <th>TAX CLASS AT TIME OF SALE</th>\n",
       "      <th>BUILDING CLASS AT TIME OF SALE</th>\n",
       "      <th>SALE PRICE</th>\n",
       "      <th>SALE DATE</th>\n",
       "    </tr>\n",
       "  </thead>\n",
       "  <tbody>\n",
       "    <tr>\n",
       "      <th>0</th>\n",
       "      <td>Manhattan</td>\n",
       "      <td>ALPHABET CITY</td>\n",
       "      <td>07 RENTALS - WALKUP APARTMENTS</td>\n",
       "      <td>2A</td>\n",
       "      <td>392</td>\n",
       "      <td>6</td>\n",
       "      <td></td>\n",
       "      <td>C2</td>\n",
       "      <td>153 AVENUE B</td>\n",
       "      <td></td>\n",
       "      <td>...</td>\n",
       "      <td>5</td>\n",
       "      <td>0</td>\n",
       "      <td>5</td>\n",
       "      <td>1633</td>\n",
       "      <td>6440</td>\n",
       "      <td>1900</td>\n",
       "      <td>2</td>\n",
       "      <td>C2</td>\n",
       "      <td>6625000</td>\n",
       "      <td>2017-07-19 00:00:00</td>\n",
       "    </tr>\n",
       "    <tr>\n",
       "      <th>1</th>\n",
       "      <td>Manhattan</td>\n",
       "      <td>ALPHABET CITY</td>\n",
       "      <td>07 RENTALS - WALKUP APARTMENTS</td>\n",
       "      <td>2</td>\n",
       "      <td>399</td>\n",
       "      <td>26</td>\n",
       "      <td></td>\n",
       "      <td>C7</td>\n",
       "      <td>234 EAST 4TH   STREET</td>\n",
       "      <td></td>\n",
       "      <td>...</td>\n",
       "      <td>28</td>\n",
       "      <td>3</td>\n",
       "      <td>31</td>\n",
       "      <td>4616</td>\n",
       "      <td>18690</td>\n",
       "      <td>1900</td>\n",
       "      <td>2</td>\n",
       "      <td>C7</td>\n",
       "      <td>-</td>\n",
       "      <td>2016-12-14 00:00:00</td>\n",
       "    </tr>\n",
       "    <tr>\n",
       "      <th>2</th>\n",
       "      <td>Manhattan</td>\n",
       "      <td>ALPHABET CITY</td>\n",
       "      <td>07 RENTALS - WALKUP APARTMENTS</td>\n",
       "      <td>2</td>\n",
       "      <td>399</td>\n",
       "      <td>39</td>\n",
       "      <td></td>\n",
       "      <td>C7</td>\n",
       "      <td>197 EAST 3RD   STREET</td>\n",
       "      <td></td>\n",
       "      <td>...</td>\n",
       "      <td>16</td>\n",
       "      <td>1</td>\n",
       "      <td>17</td>\n",
       "      <td>2212</td>\n",
       "      <td>7803</td>\n",
       "      <td>1900</td>\n",
       "      <td>2</td>\n",
       "      <td>C7</td>\n",
       "      <td>-</td>\n",
       "      <td>2016-12-09 00:00:00</td>\n",
       "    </tr>\n",
       "    <tr>\n",
       "      <th>3</th>\n",
       "      <td>Manhattan</td>\n",
       "      <td>ALPHABET CITY</td>\n",
       "      <td>07 RENTALS - WALKUP APARTMENTS</td>\n",
       "      <td>2B</td>\n",
       "      <td>402</td>\n",
       "      <td>21</td>\n",
       "      <td></td>\n",
       "      <td>C4</td>\n",
       "      <td>154 EAST 7TH STREET</td>\n",
       "      <td></td>\n",
       "      <td>...</td>\n",
       "      <td>10</td>\n",
       "      <td>0</td>\n",
       "      <td>10</td>\n",
       "      <td>2272</td>\n",
       "      <td>6794</td>\n",
       "      <td>1913</td>\n",
       "      <td>2</td>\n",
       "      <td>C4</td>\n",
       "      <td>3936272</td>\n",
       "      <td>2016-09-23 00:00:00</td>\n",
       "    </tr>\n",
       "    <tr>\n",
       "      <th>4</th>\n",
       "      <td>Manhattan</td>\n",
       "      <td>ALPHABET CITY</td>\n",
       "      <td>07 RENTALS - WALKUP APARTMENTS</td>\n",
       "      <td>2A</td>\n",
       "      <td>404</td>\n",
       "      <td>55</td>\n",
       "      <td></td>\n",
       "      <td>C2</td>\n",
       "      <td>301 EAST 10TH   STREET</td>\n",
       "      <td></td>\n",
       "      <td>...</td>\n",
       "      <td>6</td>\n",
       "      <td>0</td>\n",
       "      <td>6</td>\n",
       "      <td>2369</td>\n",
       "      <td>4615</td>\n",
       "      <td>1900</td>\n",
       "      <td>2</td>\n",
       "      <td>C2</td>\n",
       "      <td>8000000</td>\n",
       "      <td>2016-11-17 00:00:00</td>\n",
       "    </tr>\n",
       "  </tbody>\n",
       "</table>\n",
       "<p>5 rows × 21 columns</p>\n",
       "</div>"
      ],
      "text/plain": [
       "     BOROUGH   NEIGHBORHOOD                      BUILDING CLASS CATEGORY  \\\n",
       "0  Manhattan  ALPHABET CITY  07 RENTALS - WALKUP APARTMENTS                \n",
       "1  Manhattan  ALPHABET CITY  07 RENTALS - WALKUP APARTMENTS                \n",
       "2  Manhattan  ALPHABET CITY  07 RENTALS - WALKUP APARTMENTS                \n",
       "3  Manhattan  ALPHABET CITY  07 RENTALS - WALKUP APARTMENTS                \n",
       "4  Manhattan  ALPHABET CITY  07 RENTALS - WALKUP APARTMENTS                \n",
       "\n",
       "  TAX CLASS AT PRESENT  BLOCK  LOT EASE-MENT BUILDING CLASS AT PRESENT  \\\n",
       "0                   2A    392    6                                  C2   \n",
       "1                    2    399   26                                  C7   \n",
       "2                    2    399   39                                  C7   \n",
       "3                   2B    402   21                                  C4   \n",
       "4                   2A    404   55                                  C2   \n",
       "\n",
       "                  ADDRESS APARTMENT NUMBER  ...  RESIDENTIAL UNITS  \\\n",
       "0            153 AVENUE B                   ...                  5   \n",
       "1   234 EAST 4TH   STREET                   ...                 28   \n",
       "2   197 EAST 3RD   STREET                   ...                 16   \n",
       "3     154 EAST 7TH STREET                   ...                 10   \n",
       "4  301 EAST 10TH   STREET                   ...                  6   \n",
       "\n",
       "   COMMERCIAL UNITS  TOTAL UNITS  LAND SQUARE FEET GROSS SQUARE FEET  \\\n",
       "0                 0            5              1633              6440   \n",
       "1                 3           31              4616             18690   \n",
       "2                 1           17              2212              7803   \n",
       "3                 0           10              2272              6794   \n",
       "4                 0            6              2369              4615   \n",
       "\n",
       "  YEAR BUILT  TAX CLASS AT TIME OF SALE  BUILDING CLASS AT TIME OF SALE  \\\n",
       "0       1900                          2                              C2   \n",
       "1       1900                          2                              C7   \n",
       "2       1900                          2                              C7   \n",
       "3       1913                          2                              C4   \n",
       "4       1900                          2                              C2   \n",
       "\n",
       "  SALE PRICE            SALE DATE  \n",
       "0    6625000  2017-07-19 00:00:00  \n",
       "1        -    2016-12-14 00:00:00  \n",
       "2        -    2016-12-09 00:00:00  \n",
       "3    3936272  2016-09-23 00:00:00  \n",
       "4    8000000  2016-11-17 00:00:00  \n",
       "\n",
       "[5 rows x 21 columns]"
      ]
     },
     "execution_count": 153,
     "metadata": {},
     "output_type": "execute_result"
    }
   ],
   "source": [
    "# Mengubah kode digit pada kolom borough menjadi nama area\n",
    "borough_rename = {1: 'Manhattan', 2: 'Bronx', 3: 'Brooklyn', 4: 'Queens', 5: 'Staten Island'}\n",
    "df_nyc['BOROUGH'] = df_nyc['BOROUGH'].replace(borough_rename)\n",
    "df_nyc.head()"
   ]
  },
  {
   "cell_type": "markdown",
   "metadata": {},
   "source": [
    "Seperti pada penjelasan di atas bahwa `BOROUGH` berisikan kode digit untuk wilayah tempat properti berada, dengan keteragan sebagai berikut : \n",
    "1. Manhattan (1)\n",
    "2. Bronx (2)\n",
    "3. Brooklyn (3)\n",
    "4. Queens (4)\n",
    "5. Staten Island (5)"
   ]
  },
  {
   "cell_type": "code",
   "execution_count": 154,
   "metadata": {},
   "outputs": [
    {
     "name": "stdout",
     "output_type": "stream",
     "text": [
      "<class 'pandas.core.frame.DataFrame'>\n",
      "RangeIndex: 84548 entries, 0 to 84547\n",
      "Data columns (total 21 columns):\n",
      " #   Column                          Non-Null Count  Dtype \n",
      "---  ------                          --------------  ----- \n",
      " 0   BOROUGH                         84548 non-null  object\n",
      " 1   NEIGHBORHOOD                    84548 non-null  object\n",
      " 2   BUILDING CLASS CATEGORY         84548 non-null  object\n",
      " 3   TAX CLASS AT PRESENT            84548 non-null  object\n",
      " 4   BLOCK                           84548 non-null  int64 \n",
      " 5   LOT                             84548 non-null  int64 \n",
      " 6   EASE-MENT                       84548 non-null  object\n",
      " 7   BUILDING CLASS AT PRESENT       84548 non-null  object\n",
      " 8   ADDRESS                         84548 non-null  object\n",
      " 9   APARTMENT NUMBER                84548 non-null  object\n",
      " 10  ZIP CODE                        84548 non-null  int64 \n",
      " 11  RESIDENTIAL UNITS               84548 non-null  int64 \n",
      " 12  COMMERCIAL UNITS                84548 non-null  int64 \n",
      " 13  TOTAL UNITS                     84548 non-null  int64 \n",
      " 14  LAND SQUARE FEET                84548 non-null  object\n",
      " 15  GROSS SQUARE FEET               84548 non-null  object\n",
      " 16  YEAR BUILT                      84548 non-null  int64 \n",
      " 17  TAX CLASS AT TIME OF SALE       84548 non-null  int64 \n",
      " 18  BUILDING CLASS AT TIME OF SALE  84548 non-null  object\n",
      " 19  SALE PRICE                      84548 non-null  object\n",
      " 20  SALE DATE                       84548 non-null  object\n",
      "dtypes: int64(8), object(13)\n",
      "memory usage: 13.5+ MB\n"
     ]
    }
   ],
   "source": [
    "# Melihat informasi tipe data\n",
    "df_nyc.info()"
   ]
  },
  {
   "cell_type": "markdown",
   "metadata": {},
   "source": [
    "**Perbedaan Tipe Data Object dan Category**\n",
    "\n",
    "Dapat dilihat pada informasi tipe data di atas `terdapat beberapa tipe data yang belum sesuai dengan karakteristik data`, untuk itu kita akan mengubah tipe datanya menyesuaikan dari karakteristiknya. Namun sebelum itu akan dijelaskan terlebih dahulu `perbedaan antara tipe data` **object** `dengan` **category**, sebagai berikut :\n",
    "\n",
    "1. Tipe Data **Object**:\n",
    "* Tipe data objek adalah tipe data umum yang digunakan untuk menyimpan berbagai jenis data, termasuk data teks (string), angka, objek Python, atau bahkan campuran dari berbagai jenis data.\n",
    "* Tipe data objek sangat fleksibel dan dapat digunakan untuk menyimpan hampir semua jenis data.\n",
    "* Ini adalah tipe data default dalam Pandas jika Pandas tidak dapat secara otomatis mendeteksi jenis data yang lebih spesifik.\n",
    "* Tipe data objek tidak dioptimalkan untuk penggunaan memori, dan dapat menghabiskan lebih banyak ruang memori daripada tipe data yang lebih khusus seperti \"kategori.\"\n",
    "\n",
    "2. Tipe Data **Category**:\n",
    "* Tipe data kategori adalah tipe data yang dirancang khusus untuk mengelola data kategorikal atau data yang memiliki sejumlah nilai unik yang terbatas.\n",
    "* Tipe data kategori digunakan untuk menghemat ruang memori dan meningkatkan kecepatan operasi seperti pengindeksan dan pengelompokan data.\n",
    "* Ini sangat berguna saat bekerja dengan kolom yang berisi sejumlah terbatas dari nilai yang berulang-ulang, seperti kolom kategori atau kolom yang menyimpan data kelas, jenis produk, atau kode pos.\n",
    "* Tipe data kategori dalam Pandas memungkinkan Anda menentukan urutan kategori yang berbeda, yang dapat berguna dalam pengurutan data yang lebih baik.\n"
   ]
  },
  {
   "cell_type": "code",
   "execution_count": 155,
   "metadata": {},
   "outputs": [],
   "source": [
    "# Mengkonversi kolom menjadi tipe data numeric\n",
    "var_num = ['RESIDENTIAL UNITS','COMMERCIAL UNITS','TOTAL UNITS','LAND SQUARE FEET','GROSS SQUARE FEET','SALE PRICE']\n",
    "\n",
    "for kolom in var_num:\n",
    "    df_nyc[kolom] = pd.to_numeric(df_nyc[kolom],  errors='coerce') # errors='coerce' digunakan untuk mengubah nilai yang tidak valid menjadi nilai NaN (NaT untuk datetime)."
   ]
  },
  {
   "cell_type": "markdown",
   "metadata": {},
   "source": [
    "**Numeric**\n",
    "\n",
    "Tipe data numerik adalah jenis data yang digunakan untuk menyimpan nilai-nilai numerik, yang dapat digunakan dalam `operasi matematika, analisis data, dan pemrosesan numerik dalam pemrograman` seperti `int, float, dan complex`.  Penggunaan tipe data numerik yang benar sangat penting dalam pemrograman, karena tipe data yang salah dapat mengakibatkan hasil yang tidak diinginkan dalam perhitungan."
   ]
  },
  {
   "cell_type": "code",
   "execution_count": 156,
   "metadata": {},
   "outputs": [],
   "source": [
    "# Mengkonversi kolom menjadi tipe data category\n",
    "var_cat = ['BOROUGH','NEIGHBORHOOD','BUILDING CLASS CATEGORY', 'TAX CLASS AT PRESENT','BUILDING CLASS AT PRESENT','ZIP CODE','YEAR BUILT','TAX CLASS AT TIME OF SALE','BUILDING CLASS AT TIME OF SALE']\n",
    "\n",
    "for kolom in var_cat:\n",
    "    df_nyc[kolom] = df_nyc[kolom].astype(\"category\")"
   ]
  },
  {
   "cell_type": "markdown",
   "metadata": {},
   "source": [
    "**Category**\n",
    "\n",
    "Tipe data category adalah tipe data yang digunakan untuk mengelola data kategorikal atau `data dengan sejumlah nilai yang terbatas yang sering kali berulang atau sudah ditentukan`. Tipe data ini digunakan untuk menghemat memori dan mempercepat operasi pada kolom dengan data kategori yang sering digunakan dalam analisis data."
   ]
  },
  {
   "cell_type": "code",
   "execution_count": 157,
   "metadata": {},
   "outputs": [],
   "source": [
    "# Mengkonversi kolom menjadi tipe data datetime\n",
    "df_nyc['SALE DATE']= pd.to_datetime(df_nyc['SALE DATE'], errors='coerce')"
   ]
  },
  {
   "cell_type": "markdown",
   "metadata": {},
   "source": [
    "**Datetime**\n",
    "\n",
    "Tipe data datetime adalah tipe data yang digunakan untuk `menyimpan informasi tanggal (date) dan waktu (time)`. Ini memungkinkan kita untuk melakukan berbagai operasi terkait tanggal dan waktu, seperti penguraian (parsing), pemformatan (formatting), perbandingan, pengolahan data deret waktu (time series data), pencatatan peristiwa, analisis log, dan banyak aplikasi lainnya yang melibatkan manajemen tanggal dan waktu.\n"
   ]
  },
  {
   "cell_type": "code",
   "execution_count": 158,
   "metadata": {},
   "outputs": [
    {
     "data": {
      "text/plain": [
       "BOROUGH                                 category\n",
       "NEIGHBORHOOD                            category\n",
       "BUILDING CLASS CATEGORY                 category\n",
       "TAX CLASS AT PRESENT                    category\n",
       "BLOCK                                      int64\n",
       "LOT                                        int64\n",
       "EASE-MENT                                 object\n",
       "BUILDING CLASS AT PRESENT               category\n",
       "ADDRESS                                   object\n",
       "APARTMENT NUMBER                          object\n",
       "ZIP CODE                                category\n",
       "RESIDENTIAL UNITS                          int64\n",
       "COMMERCIAL UNITS                           int64\n",
       "TOTAL UNITS                                int64\n",
       "LAND SQUARE FEET                         float64\n",
       "GROSS SQUARE FEET                        float64\n",
       "YEAR BUILT                              category\n",
       "TAX CLASS AT TIME OF SALE               category\n",
       "BUILDING CLASS AT TIME OF SALE          category\n",
       "SALE PRICE                               float64\n",
       "SALE DATE                         datetime64[ns]\n",
       "dtype: object"
      ]
     },
     "execution_count": 158,
     "metadata": {},
     "output_type": "execute_result"
    }
   ],
   "source": [
    "# Memeriksa tipe data pada dataset\n",
    "df_nyc.dtypes"
   ]
  },
  {
   "cell_type": "code",
   "execution_count": 159,
   "metadata": {},
   "outputs": [],
   "source": [
    "# Mengetahui jumlah data yang duplikat \n",
    "#df_nyc.duplicated().sum()"
   ]
  },
  {
   "cell_type": "code",
   "execution_count": 160,
   "metadata": {},
   "outputs": [],
   "source": [
    "# Menghapus duplikasi data\n",
    "#df_nyc.drop_duplicates(inplace=True)\n",
    "#print(sum(df_nyc.duplicated()))"
   ]
  },
  {
   "cell_type": "code",
   "execution_count": 161,
   "metadata": {},
   "outputs": [
    {
     "data": {
      "text/html": [
       "<div>\n",
       "<style scoped>\n",
       "    .dataframe tbody tr th:only-of-type {\n",
       "        vertical-align: middle;\n",
       "    }\n",
       "\n",
       "    .dataframe tbody tr th {\n",
       "        vertical-align: top;\n",
       "    }\n",
       "\n",
       "    .dataframe thead th {\n",
       "        text-align: right;\n",
       "    }\n",
       "</style>\n",
       "<table border=\"1\" class=\"dataframe\">\n",
       "  <thead>\n",
       "    <tr style=\"text-align: right;\">\n",
       "      <th></th>\n",
       "      <th>BLOCK</th>\n",
       "      <th>LOT</th>\n",
       "      <th>RESIDENTIAL UNITS</th>\n",
       "      <th>COMMERCIAL UNITS</th>\n",
       "      <th>TOTAL UNITS</th>\n",
       "      <th>LAND SQUARE FEET</th>\n",
       "      <th>GROSS SQUARE FEET</th>\n",
       "      <th>SALE PRICE</th>\n",
       "    </tr>\n",
       "  </thead>\n",
       "  <tbody>\n",
       "    <tr>\n",
       "      <th>count</th>\n",
       "      <td>84548.000000</td>\n",
       "      <td>84548.000000</td>\n",
       "      <td>84548.000000</td>\n",
       "      <td>84548.000000</td>\n",
       "      <td>84548.000000</td>\n",
       "      <td>5.829600e+04</td>\n",
       "      <td>5.693600e+04</td>\n",
       "      <td>6.998700e+04</td>\n",
       "    </tr>\n",
       "    <tr>\n",
       "      <th>mean</th>\n",
       "      <td>4237.218976</td>\n",
       "      <td>376.224015</td>\n",
       "      <td>2.025264</td>\n",
       "      <td>0.193559</td>\n",
       "      <td>2.249184</td>\n",
       "      <td>3.941676e+03</td>\n",
       "      <td>4.045707e+03</td>\n",
       "      <td>1.276456e+06</td>\n",
       "    </tr>\n",
       "    <tr>\n",
       "      <th>std</th>\n",
       "      <td>3568.263407</td>\n",
       "      <td>658.136814</td>\n",
       "      <td>16.721037</td>\n",
       "      <td>8.713183</td>\n",
       "      <td>18.972584</td>\n",
       "      <td>4.198397e+04</td>\n",
       "      <td>3.503249e+04</td>\n",
       "      <td>1.140526e+07</td>\n",
       "    </tr>\n",
       "    <tr>\n",
       "      <th>min</th>\n",
       "      <td>1.000000</td>\n",
       "      <td>1.000000</td>\n",
       "      <td>0.000000</td>\n",
       "      <td>0.000000</td>\n",
       "      <td>0.000000</td>\n",
       "      <td>0.000000e+00</td>\n",
       "      <td>0.000000e+00</td>\n",
       "      <td>0.000000e+00</td>\n",
       "    </tr>\n",
       "    <tr>\n",
       "      <th>25%</th>\n",
       "      <td>1322.750000</td>\n",
       "      <td>22.000000</td>\n",
       "      <td>0.000000</td>\n",
       "      <td>0.000000</td>\n",
       "      <td>1.000000</td>\n",
       "      <td>1.650000e+03</td>\n",
       "      <td>1.046750e+03</td>\n",
       "      <td>2.250000e+05</td>\n",
       "    </tr>\n",
       "    <tr>\n",
       "      <th>50%</th>\n",
       "      <td>3311.000000</td>\n",
       "      <td>50.000000</td>\n",
       "      <td>1.000000</td>\n",
       "      <td>0.000000</td>\n",
       "      <td>1.000000</td>\n",
       "      <td>2.325000e+03</td>\n",
       "      <td>1.680000e+03</td>\n",
       "      <td>5.300000e+05</td>\n",
       "    </tr>\n",
       "    <tr>\n",
       "      <th>75%</th>\n",
       "      <td>6281.000000</td>\n",
       "      <td>1001.000000</td>\n",
       "      <td>2.000000</td>\n",
       "      <td>0.000000</td>\n",
       "      <td>2.000000</td>\n",
       "      <td>3.500000e+03</td>\n",
       "      <td>2.560000e+03</td>\n",
       "      <td>9.500000e+05</td>\n",
       "    </tr>\n",
       "    <tr>\n",
       "      <th>max</th>\n",
       "      <td>16322.000000</td>\n",
       "      <td>9106.000000</td>\n",
       "      <td>1844.000000</td>\n",
       "      <td>2261.000000</td>\n",
       "      <td>2261.000000</td>\n",
       "      <td>4.252327e+06</td>\n",
       "      <td>3.750565e+06</td>\n",
       "      <td>2.210000e+09</td>\n",
       "    </tr>\n",
       "  </tbody>\n",
       "</table>\n",
       "</div>"
      ],
      "text/plain": [
       "              BLOCK           LOT  RESIDENTIAL UNITS  COMMERCIAL UNITS  \\\n",
       "count  84548.000000  84548.000000       84548.000000      84548.000000   \n",
       "mean    4237.218976    376.224015           2.025264          0.193559   \n",
       "std     3568.263407    658.136814          16.721037          8.713183   \n",
       "min        1.000000      1.000000           0.000000          0.000000   \n",
       "25%     1322.750000     22.000000           0.000000          0.000000   \n",
       "50%     3311.000000     50.000000           1.000000          0.000000   \n",
       "75%     6281.000000   1001.000000           2.000000          0.000000   \n",
       "max    16322.000000   9106.000000        1844.000000       2261.000000   \n",
       "\n",
       "        TOTAL UNITS  LAND SQUARE FEET  GROSS SQUARE FEET    SALE PRICE  \n",
       "count  84548.000000      5.829600e+04       5.693600e+04  6.998700e+04  \n",
       "mean       2.249184      3.941676e+03       4.045707e+03  1.276456e+06  \n",
       "std       18.972584      4.198397e+04       3.503249e+04  1.140526e+07  \n",
       "min        0.000000      0.000000e+00       0.000000e+00  0.000000e+00  \n",
       "25%        1.000000      1.650000e+03       1.046750e+03  2.250000e+05  \n",
       "50%        1.000000      2.325000e+03       1.680000e+03  5.300000e+05  \n",
       "75%        2.000000      3.500000e+03       2.560000e+03  9.500000e+05  \n",
       "max     2261.000000      4.252327e+06       3.750565e+06  2.210000e+09  "
      ]
     },
     "execution_count": 161,
     "metadata": {},
     "output_type": "execute_result"
    }
   ],
   "source": [
    "df_nyc.describe()"
   ]
  },
  {
   "cell_type": "code",
   "execution_count": 162,
   "metadata": {},
   "outputs": [
    {
     "data": {
      "text/plain": [
       "BOROUGH                               0\n",
       "NEIGHBORHOOD                          0\n",
       "BUILDING CLASS CATEGORY               0\n",
       "TAX CLASS AT PRESENT                  0\n",
       "BLOCK                                 0\n",
       "LOT                                   0\n",
       "EASE-MENT                             0\n",
       "BUILDING CLASS AT PRESENT             0\n",
       "ADDRESS                               0\n",
       "APARTMENT NUMBER                      0\n",
       "ZIP CODE                              0\n",
       "RESIDENTIAL UNITS                     0\n",
       "COMMERCIAL UNITS                      0\n",
       "TOTAL UNITS                           0\n",
       "LAND SQUARE FEET                  26252\n",
       "GROSS SQUARE FEET                 27612\n",
       "YEAR BUILT                            0\n",
       "TAX CLASS AT TIME OF SALE             0\n",
       "BUILDING CLASS AT TIME OF SALE        0\n",
       "SALE PRICE                        14561\n",
       "SALE DATE                             0\n",
       "dtype: int64"
      ]
     },
     "execution_count": 162,
     "metadata": {},
     "output_type": "execute_result"
    }
   ],
   "source": [
    "# Memeriksa jumlah missing value pada dataset\n",
    "df_nyc.isnull().sum()"
   ]
  },
  {
   "cell_type": "code",
   "execution_count": 163,
   "metadata": {},
   "outputs": [
    {
     "data": {
      "text/plain": [
       "BOROUGH                            0.000000\n",
       "NEIGHBORHOOD                       0.000000\n",
       "BUILDING CLASS CATEGORY            0.000000\n",
       "TAX CLASS AT PRESENT               0.000000\n",
       "BLOCK                              0.000000\n",
       "LOT                                0.000000\n",
       "EASE-MENT                          0.000000\n",
       "BUILDING CLASS AT PRESENT          0.000000\n",
       "ADDRESS                            0.000000\n",
       "APARTMENT NUMBER                   0.000000\n",
       "ZIP CODE                           0.000000\n",
       "RESIDENTIAL UNITS                  0.000000\n",
       "COMMERCIAL UNITS                   0.000000\n",
       "TOTAL UNITS                        0.000000\n",
       "LAND SQUARE FEET                  31.049818\n",
       "GROSS SQUARE FEET                 32.658372\n",
       "YEAR BUILT                         0.000000\n",
       "TAX CLASS AT TIME OF SALE          0.000000\n",
       "BUILDING CLASS AT TIME OF SALE     0.000000\n",
       "SALE PRICE                        17.222170\n",
       "SALE DATE                          0.000000\n",
       "dtype: float64"
      ]
     },
     "execution_count": 163,
     "metadata": {},
     "output_type": "execute_result"
    }
   ],
   "source": [
    "# Menampilkan persentase dari missing value\n",
    "df_nyc.isna().sum() /len(df_nyc) *100"
   ]
  },
  {
   "cell_type": "markdown",
   "metadata": {},
   "source": [
    "**Penanganan Missing Value**\n",
    "\n",
    "Berdasarkan hasil report di atas, terdapat 7 kolom yang memiliki nilai missing value. Untuk itu kita akan membreak-down satu persatu teknik terbaik dalam penanganan missing value dari masing-masing kolom tersebut.\n",
    "1. TAX CLASS AT PRESENT (738) dan BUILDING CLASS AT PRESENT (738) :\n",
    " Kolom ini berisikan missing value sebanyak 738 dan tipedatanya merupakan kategorikal sehingga kita dapat mengisi dengan teknik imputasi modus untuk tetap mempertahankan informasi dalam kolom ini, kita dapat menggunakan teknik imputasi seperti mengisi nilai yang hilang dengan modus (nilai yang paling sering muncul) dari kolom ini. Ini bisa menjadi pendekatan yang baik jika kolom ini adalah variabel kategorikal atau nominal.\n",
    "2. EASE-MENT (84548) : \n",
    "Sepertinya seluruh kolom ini hanya berisi nilai yang hilang (missing value). Kolom ini mungkin tidak memberikan informasi berarti dan dapat dihapus.\n",
    "3. APARTMENT NUMBER (65496) :\n",
    "Jumlah missing value pada kolom ini juga cukup signifikan (65496). Ini mungkin merupakan informasi opsional dalam data. kita dapat memutuskan untuk menghapus kolom ini jika Anda tidak berencana menggunakan informasi ini dalam analisis Anda.\n",
    "4. LAND SQUARE FEET (26252) dan GROSS SQUARE FEET (27612) :\n",
    "Untuk kolom-kolom ini, kita dapat memutuskan untuk mengisi nilai yang hilang dengan statistik seperti rata-rata atau median dari kolom tersebut. Misalnya, Anda dapat mengisi nilai yang hilang dalam kolom LAND SQUARE FEET dengan nilai rata-rata dari kolom tersebut.\n",
    "5. SALE PRICE (14561) :\n",
    " Kolom ini berisi sejumlah besar missing value (14561). Sale price adalah variabel yang penting, jadi menghapus baris dengan nilai yang hilang mungkin bukan pilihan terbaik. Salah satu pendekatan yang umum adalah mengisi nilai yang hilang dalam kolom ini dengan nilai median dari kolom tersebut atau menggunakan teknik lain yang lebih canggih seperti regresi.\n"
   ]
  },
  {
   "cell_type": "code",
   "execution_count": 164,
   "metadata": {},
   "outputs": [],
   "source": [
    "# Mengubah semua nilai yang mengandung tanda \"-\" (strip) dengan NaN (Not-a-Number) dan kemudian mengganti DataFrame asli dengan yang telah dimodifikasi.\n",
    "df_nyc.replace('-',np.nan, inplace=True)\n",
    "# Mengubah semua nilai yang spasi kosong \" \" dengan NaN (Not-a-Number) dan kemudian mengganti DataFrame asli dengan yang telah dimodifikasi.\n",
    "df_nyc.replace(' ',np.nan, inplace=True)"
   ]
  },
  {
   "cell_type": "code",
   "execution_count": 165,
   "metadata": {},
   "outputs": [],
   "source": [
    "# Mengisi missing value pada kolom-kolom tertentu\n",
    "\n",
    "# Mengisi missing value dengan modus\n",
    "df_nyc['BUILDING CLASS AT PRESENT'].fillna(df_nyc['BUILDING CLASS AT PRESENT'].mode()[0], inplace=True)\n",
    "df_nyc['TAX CLASS AT PRESENT'].fillna(df_nyc['TAX CLASS AT PRESENT'].mode()[0], inplace=True)\n",
    "\n",
    "# Menghapus kolom `EASE-MENT`\n",
    "df_nyc.drop('EASE-MENT', axis=1, inplace=True)\n",
    "\n",
    "# Menghapus kolom `APARTMENT NUMBER`\n",
    "df_nyc.drop('APARTMENT NUMBER', axis=1, inplace=True)\n",
    "\n",
    "# Mengisi missing value di kolom \"LAND SQUARE FEET\" dengan nilai mean\n",
    "df_nyc['LAND SQUARE FEET'].fillna(df_nyc['LAND SQUARE FEET'].mean(), inplace=True)\n",
    "\n",
    "# Mengisi missing value di kolom \"GROSS SQUARE FEET\" dengan nilai mean\n",
    "df_nyc['GROSS SQUARE FEET'].fillna(df_nyc['GROSS SQUARE FEET'].mean(), inplace=True)\n",
    "\n",
    "# Mengisi missing value di kolom \"GROSS SQUARE FEET\" dengan nilai median\n",
    "df_nyc['SALE PRICE'].fillna(df_nyc['SALE PRICE'].median(), inplace=True)\n"
   ]
  },
  {
   "cell_type": "code",
   "execution_count": 166,
   "metadata": {},
   "outputs": [],
   "source": [
    "# Menghilangkan entri dari SALE PRICE yang memiliki nilai idak masuk akal.\n",
    "df_nyc = df_nyc.drop(df_nyc[df_nyc['SALE PRICE'] < 100].index)"
   ]
  },
  {
   "cell_type": "code",
   "execution_count": 167,
   "metadata": {},
   "outputs": [
    {
     "data": {
      "text/plain": [
       "BOROUGH                           0\n",
       "NEIGHBORHOOD                      0\n",
       "BUILDING CLASS CATEGORY           0\n",
       "TAX CLASS AT PRESENT              0\n",
       "BLOCK                             0\n",
       "LOT                               0\n",
       "BUILDING CLASS AT PRESENT         0\n",
       "ADDRESS                           0\n",
       "ZIP CODE                          0\n",
       "RESIDENTIAL UNITS                 0\n",
       "COMMERCIAL UNITS                  0\n",
       "TOTAL UNITS                       0\n",
       "LAND SQUARE FEET                  0\n",
       "GROSS SQUARE FEET                 0\n",
       "YEAR BUILT                        0\n",
       "TAX CLASS AT TIME OF SALE         0\n",
       "BUILDING CLASS AT TIME OF SALE    0\n",
       "SALE PRICE                        0\n",
       "SALE DATE                         0\n",
       "dtype: int64"
      ]
     },
     "execution_count": 167,
     "metadata": {},
     "output_type": "execute_result"
    }
   ],
   "source": [
    "# Memeriksa jumlah missing value pada dataset\n",
    "df_nyc.isnull().sum()"
   ]
  },
  {
   "cell_type": "code",
   "execution_count": 168,
   "metadata": {},
   "outputs": [
    {
     "data": {
      "text/plain": [
       "<AxesSubplot: >"
      ]
     },
     "execution_count": 168,
     "metadata": {},
     "output_type": "execute_result"
    },
    {
     "data": {
      "image/png": "[encoded data removed]",
      "text/plain": [
       "<Figure size 720x720 with 1 Axes>"
      ]
     },
     "metadata": {
      "needs_background": "light"
     },
     "output_type": "display_data"
    }
   ],
   "source": [
    "# Memeriksa korelasi dan hubungan data dengan menggunakan heatmap\n",
    "plt.figure(figsize=(10,10))\n",
    "sns.heatmap(df_nyc.isnull(), yticklabels=False, cbar=False, cmap='coolwarm')"
   ]
  },
  {
   "cell_type": "markdown",
   "metadata": {},
   "source": [
    "### Statistical Treatment\n",
    "\n",
    "**Measure of Central Tendency**\n",
    "Central tendency mengacu pada gagasan bahwa ada satu bilangan yang paling baik untuk meringkas\n",
    "seluruh rangkaian pengukuran, `sebuah bilangan yang dalam beberapa hal merupakan “central” dari\n",
    "himpunan tersebut`.\n",
    "\n",
    "**Measure of Spread / Dispersion**\n",
    "Measure of Spread mengacu pada gagasan variabilitas dalam data kita. Measure of Spread juga digunakan\n",
    "untuk mengukur `seberapa \"bagus\" mean merepresentasikan kumpulan data` (How far away data from the\n",
    "center).\n"
   ]
  },
  {
   "cell_type": "markdown",
   "metadata": {},
   "source": [
    "#### **Mean**\n",
    "\n",
    "Code Review : Student Mengimplementasikan Mean dari Kolom/Data Spesifik Menggunakan\n",
    "Pandas, Numpy, Atau Scipy.\n",
    "\n",
    "Analysis : Menarik Informasi/Kesimpulan Dari Keseluruhan Plot Yang Dapat Menjawab Hipotesis.\n",
    "\n",
    "Output : Menghitung berapa rata-rata harga properti di setiap borough."
   ]
  },
  {
   "cell_type": "code",
   "execution_count": 169,
   "metadata": {},
   "outputs": [
    {
     "name": "stderr",
     "output_type": "stream",
     "text": [
      "C:\\Users\\Nadiatus Salam\\AppData\\Local\\Temp\\ipykernel_16016\\99454346.py:2: FutureWarning: The default value of numeric_only in DataFrameGroupBy.mean is deprecated. In a future version, numeric_only will default to False. Either specify numeric_only or select only columns which should be valid for the function.\n",
      "  borough_data = df_nyc.groupby(['BOROUGH']).mean()\n"
     ]
    },
    {
     "data": {
      "text/plain": [
       "BOROUGH\n",
       "Bronx            8.217014e+05\n",
       "Brooklyn         1.303471e+06\n",
       "Manhattan        2.764273e+06\n",
       "Queens           6.815384e+05\n",
       "Staten Island    5.466490e+05\n",
       "Name: SALE PRICE, dtype: float64"
      ]
     },
     "execution_count": 169,
     "metadata": {},
     "output_type": "execute_result"
    }
   ],
   "source": [
    "# Menamoilkan rata-rata harga jual properti berdasarkan Borough\n",
    "borough_data = df_nyc.groupby(['BOROUGH']).mean()\n",
    "borough_data = borough_data['SALE PRICE']\n",
    "borough_data"
   ]
  },
  {
   "cell_type": "code",
   "execution_count": 170,
   "metadata": {},
   "outputs": [
    {
     "name": "stderr",
     "output_type": "stream",
     "text": [
      "C:\\Users\\Nadiatus Salam\\AppData\\Local\\Temp\\ipykernel_16016\\2185518479.py:2: FutureWarning: The default value of numeric_only in DataFrameGroupBy.mean is deprecated. In a future version, numeric_only will default to False. Either specify numeric_only or select only columns which should be valid for the function.\n",
      "  borough_data = df_nyc.groupby(['BOROUGH']).mean()\n"
     ]
    },
    {
     "data": {
      "image/png": "[encoded data removed]",
      "text/plain": [
       "<Figure size 720x432 with 1 Axes>"
      ]
     },
     "metadata": {
      "needs_background": "light"
     },
     "output_type": "display_data"
    }
   ],
   "source": [
    "# Data rata-rata harga jual properti berdasarkan Borough\n",
    "borough_data = df_nyc.groupby(['BOROUGH']).mean()\n",
    "borough_data = borough_data['SALE PRICE']\n",
    "\n",
    "# Mengatur palet warna yang cerah\n",
    "colors = sns.color_palette(\"coolwarm\", len(borough_data))\n",
    "\n",
    "# Plot histogram dengan warna terang dan pekat\n",
    "plt.figure(figsize=(10, 6))\n",
    "bars = plt.bar(borough_data.index, borough_data.values, color=colors, edgecolor='black')\n",
    "plt.xlabel('Borough')\n",
    "plt.ylabel('Rata-rata Harga Jual Properti')\n",
    "plt.title('Rata-rata Harga Jual Properti Berdasarkan Borough')\n",
    "plt.xticks(rotation=45)  # Mengatur label sumbu x agar terbaca dengan baik\n",
    "\n",
    "# Menampilkan nilai rata-rata di atas setiap batang histogram\n",
    "for bar, value in zip(bars, borough_data.values):\n",
    "    plt.text(bar.get_x() + bar.get_width() / 2, value, math.ceil(value),\n",
    "            ha='center', va='bottom', fontsize=9, fontweight='bold', color='black')\n",
    "\n",
    "plt.tight_layout()\n",
    "\n",
    "# Menampilkan plot\n",
    "plt.show()"
   ]
  },
  {
   "cell_type": "markdown",
   "metadata": {},
   "source": [
    "**KESIMPULAN**\n",
    "\n",
    "Dapat dilihat rata-rata harga jual dari setiap borough di atas. Berikut adalah urutan dari harga jual properti sampai terendah :\n",
    "1. Manhattan\n",
    "2. Brooklyn\n",
    "3. Bronx\n",
    "4. Queens\n",
    "5. State Island"
   ]
  },
  {
   "cell_type": "markdown",
   "metadata": {},
   "source": [
    "#### **Median**\n",
    "\n",
    "Code Review : Student Mengimplementasikan Mean dari Kolom/Data Spesifik Menggunakan\n",
    "Pandas, Numpy, Atau Scipy.\n",
    "\n",
    "Analysis : Menarik Informasi/Kesimpulan Dari Keseluruhan Plot Yang Dapat Menjawab Hipotesis.\n",
    "\n",
    "Output : Mencari perbedaan median ukuran properti antar borough."
   ]
  },
  {
   "cell_type": "code",
   "execution_count": 171,
   "metadata": {},
   "outputs": [
    {
     "name": "stderr",
     "output_type": "stream",
     "text": [
      "C:\\Users\\Nadiatus Salam\\AppData\\Local\\Temp\\ipykernel_16016\\2019459537.py:2: FutureWarning: The default value of numeric_only in DataFrameGroupBy.median is deprecated. In a future version, numeric_only will default to False. Either specify numeric_only or select only columns which should be valid for the function.\n",
      "  median_lsf = df_nyc.groupby(['BOROUGH']).median()\n"
     ]
    },
    {
     "data": {
      "image/png": "[encoded data removed]",
      "text/plain": [
       "<Figure size 720x432 with 1 Axes>"
      ]
     },
     "metadata": {
      "needs_background": "light"
     },
     "output_type": "display_data"
    }
   ],
   "source": [
    "# Data rata-rata harga jual properti berdasarkan Borough\n",
    "median_lsf = df_nyc.groupby(['BOROUGH']).median()\n",
    "median_lsf = median_lsf['LAND SQUARE FEET']\n",
    "\n",
    "# Mengatur palet warna yang cerah\n",
    "colors = sns.color_palette(\"coolwarm\", len(median_lsf))\n",
    "\n",
    "# Plot histogram dengan warna terang dan pekat\n",
    "plt.figure(figsize=(10, 6))\n",
    "bars = plt.bar(median_lsf.index, median_lsf.values, color=colors, edgecolor='black')\n",
    "plt.xlabel('Borough')\n",
    "plt.ylabel('Rata-rata Harga Jual Properti')\n",
    "plt.title('Rata-rata Harga Jual Properti Berdasarkan Borough')\n",
    "plt.xticks(rotation=45)  # Mengatur label sumbu x agar terbaca dengan baik\n",
    "\n",
    "# Menampilkan nilai rata-rata di atas setiap batang histogram\n",
    "for bar, value in zip(bars, median_lsf.values):\n",
    "    plt.text(bar.get_x() + bar.get_width() / 2, value, math.ceil(value),\n",
    "            ha='center', va='bottom', fontsize=9, fontweight='bold', color='black')\n",
    "\n",
    "plt.tight_layout()\n",
    "\n",
    "# Menampilkan plot\n",
    "plt.show()"
   ]
  },
  {
   "cell_type": "markdown",
   "metadata": {},
   "source": [
    "**KESIMPULAN**\n",
    "\n",
    "Grafik histogram di atas menampilkan nilai median dari luas area properti (Land Square Feet) untuk tiap borough."
   ]
  },
  {
   "cell_type": "markdown",
   "metadata": {},
   "source": [
    "#### **Modus**\n",
    "\n",
    "Code Review : Student Mengimplementasikan Mean dari Kolom/Data Spesifik Menggunakan\n",
    "Pandas, Numpy, Atau Scipy.\n",
    "\n",
    "Analysis : Menarik Informasi/Kesimpulan Dari Keseluruhan Plot Yang Dapat Menjawab Hipotesis.\n",
    "\n",
    "Output : Mencari tipe properti apa yang paling banyak dijual.\n"
   ]
  },
  {
   "cell_type": "code",
   "execution_count": 172,
   "metadata": {},
   "outputs": [
    {
     "data": {
      "image/png": "[encoded data removed]",
      "text/plain": [
       "<Figure size 1080x1440 with 1 Axes>"
      ]
     },
     "metadata": {
      "needs_background": "light"
     },
     "output_type": "display_data"
    }
   ],
   "source": [
    "# Data tipe properti\n",
    "tipe = df_nyc['BUILDING CLASS CATEGORY'].value_counts().sort_values(ascending=False)\n",
    "\n",
    "# Membuat palet warna acak\n",
    "colors = sns.color_palette(\"husl\", len(tipe))\n",
    "\n",
    "# Membuat plot bar\n",
    "plt.figure(figsize=(15, 20))\n",
    "bars = plt.barh(tipe.index, tipe.values, color=colors)\n",
    "\n",
    "# Menambahkan label dan judul\n",
    "plt.xlabel('Nilai')\n",
    "plt.ylabel('Tipe Properti')\n",
    "plt.title('Tipe Properti yang Paling Banyak Dijual')\n",
    "\n",
    "# Menambahkan label pada setiap bar\n",
    "for bar, count in zip(bars, tipe.values):\n",
    "    plt.text(count, bar.get_y() + bar.get_height()/2, count, ha='left', va='center', fontsize=10)\n",
    "\n",
    "# Menampilkan plot\n",
    "plt.show()\n"
   ]
  },
  {
   "cell_type": "markdown",
   "metadata": {},
   "source": [
    "**KESIMPULAN**\n",
    "\n",
    "Dapat dilihat dari grafik di atas menampilkan tipe properti yang paling banyak dijual. Terdapat `4 tipe properti yang paling banyak dijual`, diantaranya :\n",
    "1. One Family Dwellings\n",
    "2. Two Family Dwellings\n",
    "3. Coops - Elevator Apartments\n",
    "4. Condos - Elevator Apartments"
   ]
  },
  {
   "cell_type": "markdown",
   "metadata": {},
   "source": [
    "#### **Range**\n",
    "\n",
    "Code Review : Student Mengimplementasikan Mean dari Kolom/Data Spesifik Menggunakan\n",
    "Pandas, Numpy, Atau Scipy.\n",
    "\n",
    "Analysis : Menarik Informasi/Kesimpulan Dari Keseluruhan Plot Yang Dapat Menjawab Hipotesis.\n",
    "\n",
    "Output : Menampilkan nilai range harga properti dari setiap borough."
   ]
  },
  {
   "cell_type": "code",
   "execution_count": 173,
   "metadata": {},
   "outputs": [
    {
     "name": "stdout",
     "output_type": "stream",
     "text": [
      "'Range, Minimum, dan Maximum SALE PRICE per Borough'\n",
      "\n",
      "         BOROUGH  Minimum       Maximum         Range\n",
      "0          Bronx    100.0  1.100000e+08  1.099999e+08\n",
      "1       Brooklyn    100.0  3.450000e+08  3.449999e+08\n",
      "2      Manhattan    100.0  2.210000e+09  2.210000e+09\n",
      "3         Queens    100.0  2.575000e+08  2.574999e+08\n",
      "4  Staten Island    100.0  1.220000e+08  1.219999e+08\n"
     ]
    }
   ],
   "source": [
    "# Menghitung rentang (range), nilai minimum, dan maksimum SALE PRICE untuk tiap borough\n",
    "range_sl = df_nyc.groupby('BOROUGH')['SALE PRICE'].agg(['min', 'max', lambda x: x.max() - x.min()]).reset_index()\n",
    "range_sl.columns = ['BOROUGH', 'Minimum', 'Maximum', 'Range']\n",
    "\n",
    "# Menampilkan nilai rentang SALE PRICE, nilai minimum, dan maksimum untuk tiap borough\n",
    "print(\"'Range, Minimum, dan Maximum SALE PRICE per Borough'\\n\")\n",
    "print(range_sl)"
   ]
  },
  {
   "cell_type": "code",
   "execution_count": 174,
   "metadata": {},
   "outputs": [
    {
     "data": {
      "image/png": "[encoded data removed]",
      "text/plain": [
       "<Figure size 864x432 with 1 Axes>"
      ]
     },
     "metadata": {
      "needs_background": "light"
     },
     "output_type": "display_data"
    }
   ],
   "source": [
    "# Menghitung rentang (range), nilai minimum, dan maksimum SALE PRICE untuk tiap borough\n",
    "range_sl = df_nyc.groupby('BOROUGH')['SALE PRICE'].agg(['min', 'max', lambda x: x.max() - x.min()]).reset_index()\n",
    "range_sl.columns = ['BOROUGH', 'Minimum', 'Maximum', 'Range']\n",
    "\n",
    "# Data rentang SALE PRICE\n",
    "data = {\n",
    "    'BOROUGH': ['Bronx', 'Brooklyn', 'Manhattan', 'Queens', 'Staten Island'],\n",
    "    'Minimum': [range_sl['Minimum'][0], range_sl['Minimum'][1], range_sl['Minimum'][2], range_sl['Minimum'][3], range_sl['Minimum'][4]],\n",
    "    'Maximum': [range_sl['Maximum'][0], range_sl['Maximum'][1], range_sl['Maximum'][2], range_sl['Maximum'][3], range_sl['Maximum'][4]],\n",
    "    'Range': [range_sl['Range'][0], range_sl['Range'][1], range_sl['Range'][2], range_sl['Range'][3], range_sl['Range'][4]]\n",
    "}\n",
    "\n",
    "df = pd.DataFrame(data)\n",
    "\n",
    "# Membuat plot\n",
    "plt.figure(figsize=(12, 6))\n",
    "# Plot nilai minimum\n",
    "plt.bar(df['BOROUGH'], df['Minimum'], label='Minimum', color='blue', alpha=0.7)\n",
    "# Plot nilai maksimum\n",
    "plt.bar(df['BOROUGH'], df['Maximum'], label='Maximum', color='green', alpha=0.7, bottom=df['Minimum'])\n",
    "# Plot nilai rentang\n",
    "plt.bar(df['BOROUGH'], df['Range'], label='Range', color='orange', alpha=0.7, bottom=df['Minimum'] + df['Maximum'])\n",
    "\n",
    "# Menambahkan label sumbu dan judul\n",
    "plt.xlabel('BOROUGH')\n",
    "plt.ylabel('SALE PRICE')\n",
    "plt.title('Range, Minimum, dan Maximum SALE PRICE per Borough')\n",
    "\n",
    "# Menambahkan legenda\n",
    "plt.legend()\n",
    "\n",
    "# Menampilkan nilai pada grafik dengan pembulatan ke atas\n",
    "for index, row in df.iterrows():\n",
    "    borough = row['BOROUGH']\n",
    "    minimum = math.ceil(row['Minimum'])  # Menggunakan math.ceil() untuk pembulatan ke atas\n",
    "    maximum = math.ceil(row['Maximum'])  # Menggunakan math.ceil() untuk pembulatan ke atas\n",
    "    value_range = math.ceil(row['Range'])  # Menggunakan math.ceil() untuk pembulatan ke atas\n",
    "\n",
    "    # Menambahkan teks pada bar-chart\n",
    "    plt.text(borough, minimum / 2, f'{minimum}', ha='center', va='center', color='blue')\n",
    "    plt.text(borough, minimum + (maximum / 2), f'{maximum}', ha='center', va='center', color='white')\n",
    "    plt.text(borough, minimum + maximum + (value_range / 2), f'{value_range}', ha='center', va='center', color='black')\n",
    "\n",
    "# Menampilkan plot\n",
    "plt.show()\n",
    "\n",
    "\n"
   ]
  },
  {
   "cell_type": "markdown",
   "metadata": {},
   "source": [
    "**KESIMPULAN**\n",
    "\n",
    "Berdasarkan hasil perhitungan di atas dapat diketahui bahwa `Manhattan memiliki nilai range harga properti yang luas dan bervariasi` dengan nilai range sebesar `2.210000e+09`."
   ]
  },
  {
   "cell_type": "markdown",
   "metadata": {},
   "source": [
    "#### **Variance**\n",
    "Code Review : Student Mengimplementasikan Mean dari Kolom/Data Spesifik Menggunakan\n",
    "Pandas, Numpy, Atau Scipy.\n",
    "\n",
    "Analysis : Menarik Informasi/Kesimpulan Dari Keseluruhan Plot Yang Dapat Menjawab Hipotesis.\n",
    "\n",
    "Output : Menampilkan nilai variance dari RESIDENTIAL UNITS dan COMMERCIAL UNITS."
   ]
  },
  {
   "cell_type": "code",
   "execution_count": 175,
   "metadata": {},
   "outputs": [
    {
     "name": "stdout",
     "output_type": "stream",
     "text": [
      "Varians 'RESIDENTIAL UNITS': 280.59859098920464\n",
      "Varians 'COMMERCIAL UNITS': 86.5981051713043\n",
      "Perbandingan Nilai Varians: 3.240239384385348\n"
     ]
    }
   ],
   "source": [
    "# Menghitung nilai varians 'RESIDENTIAL UNITS'\n",
    "residential_var = df_nyc['RESIDENTIAL UNITS'].var()\n",
    "\n",
    "# Menghitung nilai varians'COMMERCIAL UNITS'\n",
    "commercial_var = df_nyc['COMMERCIAL UNITS'].var()\n",
    "\n",
    "# Menampilkan perbandingan varians\n",
    "print(f\"Varians 'RESIDENTIAL UNITS': {residential_var}\")\n",
    "print(f\"Varians 'COMMERCIAL UNITS': {commercial_var}\")\n",
    "\n",
    "# Menghitung perbandingan varians\n",
    "var_ratio = residential_var / commercial_var\n",
    "\n",
    "print(f\"Perbandingan Nilai Varians: {var_ratio}\")"
   ]
  },
  {
   "cell_type": "markdown",
   "metadata": {},
   "source": [
    "**KESIMPULAN**\n",
    "\n",
    "Berdasarkan data di atas untuk nilai varians `RESIDENTIAL UNITS memiliki nilai sebesar 280.5985909892046` dan untuk `COMMERCIAL UNITS sebesar 86.5981051713043`. Hal tersebut menunjukkan bahwa terdapat lebih banyak variansi dalam jumlah unit RESIDENTIAL UNITS. \n",
    "\n",
    "Untuk `perbandingan nilai varians kedua unit yaitu sebesar 3.240239384385348` yang berarti bahwa `variasi dalam jumlah RESIDENTIAL UNITS lebih besar sekitar 3.24 kali lipat dibandingkan dengan jumlah COMMERCIAL UNITS`."
   ]
  },
  {
   "cell_type": "markdown",
   "metadata": {},
   "source": [
    "#### **Standard Deviation**\n",
    "Code Review : Student Mengimplementasikan Mean dari Kolom/Data Spesifik Menggunakan\n",
    "Pandas, Numpy, Atau Scipy.\n",
    "\n",
    "Analysis : Menarik Informasi/Kesimpulan Dari Keseluruhan Plot Yang Dapat Menjawab Hipotesis.\n",
    "\n",
    "Output : Menunjukkan seberapa jauh tahun pembangunan properti tersebar dari nilai rata-ratanya."
   ]
  },
  {
   "cell_type": "code",
   "execution_count": 176,
   "metadata": {},
   "outputs": [
    {
     "name": "stdout",
     "output_type": "stream",
     "text": [
      "Standar Deviasi YEAR BUILT: 526.965306969494\n"
     ]
    }
   ],
   "source": [
    "# Mengubah tipe data kolom 'YEAR BUILT' menjadi numerik\n",
    "df_nyc['YEAR BUILT'] = pd.to_numeric(df_nyc['YEAR BUILT'], errors='coerce')\n",
    "\n",
    "# Menghitung standar deviasi dari kolom 'YEAR BUILT'\n",
    "year_build_std = df_nyc['YEAR BUILT'].std()\n",
    "\n",
    "# Mencetak nilai standar deviasi dari kolom 'YEAR BUILT'\n",
    "print(\"Standar Deviasi YEAR BUILT:\", year_build_std)"
   ]
  },
  {
   "cell_type": "markdown",
   "metadata": {},
   "source": [
    "**KESIMPULAN**\n",
    "\n",
    "Standar deviasi adalah ukuran statistik yang digunakan untuk mengukur sejauh mana data dalam sebuah set memiliki dispersi atau variasi dari nilai rata-ratanya. Dalam konteks ini, standar deviasi YEAR BUILT mengukur seberapa jauh tahun pembangunan properti tersebar dari nilai rata-rata tahun pembangunan dalam dataset.\n",
    "\n",
    "Dengan standar deviasi sebesar 526.965306969494, dapat diinterpretasikan bahwa `tahun pembangunan properti dalam dataset memiliki variasi yang signifikan dari tahun rata-rata pembangunan `. Artinya, `ada properti dengan tahun pembangunan yang jauh lebih awal dan ada yang jauh lebih baru daripada tahun rata-rata`. Standar deviasi yang tinggi menunjukkan keragaman yang besar dalam data tahun pembangunan properti tersebut, sedangkan standar deviasi yang rendah akan menunjukkan bahwa sebagian besar properti memiliki tahun pembangunan yang mendekati tahun rata-rata. Dalam kasus ini, standar deviasi yang tinggi mengindikasikan variasi yang besar dalam usia properti di dalam dataset."
   ]
  },
  {
   "cell_type": "markdown",
   "metadata": {},
   "source": [
    "#### **Probability Distribution**\n",
    "\n",
    "Code Review : Student Mengimplementasikan Mean dari Kolom/Data Spesifik Menggunakan\n",
    "Pandas, Numpy, Atau Scipy.\n",
    "\n",
    "Analysis : Menarik Informasi/Kesimpulan Dari Keseluruhan Plot Yang Dapat Menjawab Hipotesis.\n",
    "\n",
    "Output : Menampilkan distribusi data tahun pembangunan properti di New York.\n"
   ]
  },
  {
   "cell_type": "code",
   "execution_count": 177,
   "metadata": {},
   "outputs": [
    {
     "data": {
      "image/png": "[encoded data removed]",
      "text/plain": [
       "<Figure size 1080x576 with 1 Axes>"
      ]
     },
     "metadata": {
      "needs_background": "light"
     },
     "output_type": "display_data"
    }
   ],
   "source": [
    "# Mengatur ukuran plot\n",
    "plt.figure(figsize=(15,8))\n",
    "\n",
    "# Membuat histogram distribusi probabilitas Tahun Pembangunan\n",
    "df_nyc = df_nyc.drop(df_nyc[df_nyc['YEAR BUILT'] < 100].index)\n",
    "sns.histplot(data=df_nyc, x='YEAR BUILT', bins=151, kde=False, stat='probability')\n",
    "\n",
    "# Menambahkan label sumbu dan judul\n",
    "plt.xlabel('Tahun Pembangunan')\n",
    "plt.ylabel('Probabilitas')\n",
    "plt.title('Distribusi Probabilitas Tahun Pembangunan')\n",
    "\n",
    "# Menampilkan tahun maksimum dan minimum\n",
    "max_year = max(df_nyc['YEAR BUILT'])\n",
    "min_year = min(df_nyc['YEAR BUILT'])\n",
    "plt.text(0.95, 0.95, f\"Max: {max_year}\", ha='right', va='top', transform=plt.gca().transAxes)\n",
    "plt.text(0.95, 0.9, f\"Min: {min_year}\", ha='right', va='top', transform=plt.gca().transAxes)\n",
    "\n",
    "# Menambah jumlah tick pada sumbu x\n",
    "plt.xticks(ticks=range(min_year, max_year + 1, 20), rotation=90)\n",
    "\n",
    "# Menampilkan plot\n",
    "plt.show()\n"
   ]
  },
  {
   "cell_type": "markdown",
   "metadata": {},
   "source": [
    "**KESIMPULAN**\n",
    "\n",
    "Gambar di atas menampilkan distribusi data tahun pembangunan properti di New York. Didapatkan kesimpulan bahwa bangunan properti di New York banyak dibangun pada rentang tahun 1911 sampai dengan 2017."
   ]
  },
  {
   "cell_type": "markdown",
   "metadata": {},
   "source": [
    "#### **Confidence Interval**\n",
    "\n",
    "Code Review : Student Mengimplementasikan Mean dari Kolom/Data Spesifik Menggunakan\n",
    "Pandas, Numpy, Atau Scipy.\n",
    "\n",
    "Analysis : Menarik Informasi/Kesimpulan Dari Keseluruhan Plot Yang Dapat Menjawab Hipotesis.\n",
    "\n",
    "Output : Menampilkan hasil perhitungan Confidence Interval."
   ]
  },
  {
   "cell_type": "code",
   "execution_count": 178,
   "metadata": {},
   "outputs": [
    {
     "name": "stdout",
     "output_type": "stream",
     "text": [
      "Confidence Interval (95.0%):\n",
      "(1222892.3549915939, 1394607.166970014)\n"
     ]
    }
   ],
   "source": [
    "# Mengambil variabel SALE PRICE dari dataset\n",
    "sale_price = df_nyc['SALE PRICE']\n",
    "\n",
    "# Menghitung mean dan standard deviation\n",
    "mean = np.mean(sale_price)\n",
    "std_dev = np.std(sale_price)\n",
    "\n",
    "# Mengatur level kepercayaan (misalnya, 95%)\n",
    "confidence_level = 0.95\n",
    "\n",
    "# Menghitung ukuran sampel\n",
    "sample_size = len(sale_price)\n",
    "\n",
    "# Menghitung z-score berdasarkan level kepercayaan\n",
    "z_score = stats.norm.ppf((1 + confidence_level) / 2)\n",
    "\n",
    "# Menghitung confidence interval\n",
    "margin_of_error = z_score * (std_dev / np.sqrt(sample_size))\n",
    "confidence_interval = (mean - margin_of_error, mean + margin_of_error)\n",
    "\n",
    "# Menampilkan hasil confidence interval\n",
    "print(\"Confidence Interval ({}%):\".format(confidence_level * 100))\n",
    "print(confidence_interval)\n"
   ]
  },
  {
   "cell_type": "markdown",
   "metadata": {},
   "source": [
    "**KESIMPULAN**\n",
    "\n",
    "Data di atas menampilkan hasil perhitungan confidence interval dengan `tingkat kepercayaan 95%`. Ini berarti dengan tingkat kepercayaan 95%, kita dapat mengatakan bahwa rata-rata harga penjualan properti di dataset ini jatuh dalam rentang antara $1,170,390.43 hingga $1,321,664.74. Rentang confidence interval yang diperoleh adalah $1,170,390.43 hingga $1,321,664.74. Artinya, kita dapat mengatakan dengan 95% kepercayaan bahwa rata-rata harga penjualan properti di dataset ini berada dalam rentang tersebut.\n",
    "\n",
    "Confidence interval ini memberikan informasi penting tentang ketidakpastian estimasi rata-rata harga penjualan properti. Semakin sempit intervalnya, semakin akurat estimasi rata-rata tersebut."
   ]
  }
 ],
 "metadata": {
  "kernelspec": {
   "display_name": "Python 3",
   "language": "python",
   "name": "python3"
  },
  "language_info": {
   "codemirror_mode": {
    "name": "ipython",
    "version": 3
   },
   "file_extension": ".py",
   "mimetype": "text/x-python",
   "name": "python",
   "nbconvert_exporter": "python",
   "pygments_lexer": "ipython3",
   "version": "3.10.4"
  },
  "orig_nbformat": 4
 },
 "nbformat": 4,
 "nbformat_minor": 2
}
